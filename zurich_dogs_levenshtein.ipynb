{
 "cells": [
  {
   "cell_type": "markdown",
   "metadata": {},
   "source": [
    "# Compute the Levenshtein distance in Zurich dogs dataset"
   ]
  },
  {
   "cell_type": "markdown",
   "metadata": {},
   "source": [
    "## Imports"
   ]
  },
  {
   "cell_type": "code",
   "execution_count": null,
   "metadata": {},
   "outputs": [],
   "source": [
    "import itertools\n",
    "import numpy as np\n",
    "import pandas as pd\n",
    "from Levenshtein import distance as levenshtein_distance"
   ]
  },
  {
   "cell_type": "markdown",
   "metadata": {},
   "source": [
    "## Dataset URL Declaration"
   ]
  },
  {
   "cell_type": "code",
   "execution_count": null,
   "metadata": {},
   "outputs": [],
   "source": [
    "url = \"https://data.stadt-zuerich.ch/dataset/sid_stapo_hundenamen/download/20210103_hundenamen.csv\""
   ]
  },
  {
   "cell_type": "markdown",
   "metadata": {},
   "source": [
    "### Download the dataset"
   ]
  },
  {
   "cell_type": "code",
   "execution_count": null,
   "metadata": {},
   "outputs": [],
   "source": [
    "df = pd.read_csv(url)"
   ]
  },
  {
   "cell_type": "code",
   "execution_count": null,
   "metadata": {},
   "outputs": [],
   "source": [
    "df.head()"
   ]
  },
  {
   "cell_type": "code",
   "execution_count": null,
   "metadata": {},
   "outputs": [],
   "source": [
    "n_names = len(df)\n",
    "print(f\"n_names: {n_names}\")"
   ]
  },
  {
   "cell_type": "code",
   "execution_count": null,
   "metadata": {},
   "outputs": [],
   "source": [
    "unique_names = set(list(df[\"HUNDENAME\"])) #set(list(itertools.chain(*df[\"HUNDENAME\"])))\n",
    "n_unique_names = len(unique_names)\n",
    "print(f\"n_unique_names: {n_unique_names}\")\n",
    "# print(f\"unique_names: {unique_names}\")"
   ]
  },
  {
   "cell_type": "markdown",
   "metadata": {},
   "source": [
    "## Referecen dog's name"
   ]
  },
  {
   "cell_type": "code",
   "execution_count": null,
   "metadata": {},
   "outputs": [],
   "source": [
    "ref_name = 'Luca'"
   ]
  },
  {
   "cell_type": "markdown",
   "metadata": {},
   "source": [
    "## Define the Levenshtein distance class"
   ]
  },
  {
   "cell_type": "code",
   "execution_count": null,
   "metadata": {},
   "outputs": [],
   "source": [
    "class LevenshteinDistance:\n",
    "    def __init__(self, names:np.array, ref_name:str='Luca', distance:int=1):\n",
    "        self.names = pd.DataFrame(names, columns=['name'])\n",
    "        self.distance = distance\n",
    "        self.ref_name = ref_name\n",
    "    \n",
    "        self.names['name'] = self.names['name'].apply(self._separate_double_names)\n",
    "        \n",
    "        names_ = list(itertools.chain(*self.names.name))\n",
    "        unique_names = list(set(list(names_)))\n",
    "        self.names = pd.DataFrame(unique_names, columns=['name'])\n",
    "        \n",
    "    def _separate_double_names(self, name):\n",
    "        if '(' in name:\n",
    "            names = name.split('(')\n",
    "            names[1] = names[1].split(')')[0]\n",
    "            names = [name.strip() for name in names]\n",
    "            return names\n",
    "        else:\n",
    "            return [name]\n",
    "    \n",
    "    def compute(self, verbose=False):\n",
    "        similar_names = self.names[\n",
    "            self.names.name.apply(\n",
    "                lambda i: levenshtein_distance(i.lower(), self.ref_name.lower()) == self.distance)]\n",
    "        \n",
    "        return similar_names"
   ]
  },
  {
   "cell_type": "markdown",
   "metadata": {},
   "source": [
    "## Find similar names"
   ]
  },
  {
   "cell_type": "code",
   "execution_count": null,
   "metadata": {},
   "outputs": [],
   "source": [
    "unique_names = set(list(df[\"HUNDENAME\"]))"
   ]
  },
  {
   "cell_type": "code",
   "execution_count": null,
   "metadata": {},
   "outputs": [],
   "source": [
    "similar_names = LevenshteinDistance(unique_names, ref_name='Luca', distance=1).compute()"
   ]
  },
  {
   "cell_type": "code",
   "execution_count": null,
   "metadata": {},
   "outputs": [],
   "source": [
    "similar_names = [name[0] for name in similar_names.values.tolist()]"
   ]
  },
  {
   "cell_type": "code",
   "execution_count": null,
   "metadata": {},
   "outputs": [],
   "source": [
    "print(f\"n_similar_names: {len(similar_names)}\")\n",
    "print(f\"similar_names:\\n {similar_names}\")"
   ]
  }
 ],
 "metadata": {
  "kernelspec": {
   "display_name": "Python [conda env:py37] *",
   "language": "python",
   "name": "conda-env-py37-py"
  },
  "language_info": {
   "codemirror_mode": {
    "name": "ipython",
    "version": 3
   },
   "file_extension": ".py",
   "mimetype": "text/x-python",
   "name": "python",
   "nbconvert_exporter": "python",
   "pygments_lexer": "ipython3",
   "version": "3.7.7"
  }
 },
 "nbformat": 4,
 "nbformat_minor": 4
}
